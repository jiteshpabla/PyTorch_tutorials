{
  "nbformat": 4,
  "nbformat_minor": 0,
  "metadata": {
    "colab": {
      "name": "UdacityPyTorch_0_test.ipynb",
      "provenance": [],
      "authorship_tag": "ABX9TyOTet+x6LgfSiK4Zhb1mizb",
      "include_colab_link": true
    },
    "kernelspec": {
      "name": "python3",
      "display_name": "Python 3"
    }
  },
  "cells": [
    {
      "cell_type": "markdown",
      "metadata": {
        "id": "view-in-github",
        "colab_type": "text"
      },
      "source": [
        "<a href=\"https://colab.research.google.com/github/jiteshpabla/PyTorch_tutorials/blob/master/UdacityPyTorch_0_test.ipynb\" target=\"_parent\"><img src=\"https://colab.research.google.com/assets/colab-badge.svg\" alt=\"Open In Colab\"/></a>"
      ]
    },
    {
      "cell_type": "code",
      "metadata": {
        "id": "kcI28TADePNQ",
        "colab_type": "code",
        "colab": {
          "base_uri": "https://localhost:8080/",
          "height": 33
        },
        "outputId": "adecf7f8-7de1-4fe2-8333-22c2f62119b5"
      },
      "source": [
        "print(\"test file\")"
      ],
      "execution_count": 1,
      "outputs": [
        {
          "output_type": "stream",
          "text": [
            "test file\n"
          ],
          "name": "stdout"
        }
      ]
    }
  ]
}