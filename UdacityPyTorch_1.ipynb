{
  "nbformat": 4,
  "nbformat_minor": 0,
  "metadata": {
    "colab": {
      "name": "UdacityPyTorch_1.ipynb",
      "provenance": [],
      "authorship_tag": "ABX9TyM7Igsk4kJSZupJOWtqUo2S",
      "include_colab_link": true
    },
    "kernelspec": {
      "name": "python3",
      "display_name": "Python 3"
    }
  },
  "cells": [
    {
      "cell_type": "markdown",
      "metadata": {
        "id": "view-in-github",
        "colab_type": "text"
      },
      "source": [
        "<a href=\"https://colab.research.google.com/github/jiteshpabla/PyTorch_tutorials/blob/master/UdacityPyTorch_1.ipynb\" target=\"_parent\"><img src=\"https://colab.research.google.com/assets/colab-badge.svg\" alt=\"Open In Colab\"/></a>"
      ]
    },
    {
      "cell_type": "code",
      "metadata": {
        "id": "Jj-FGJoEhpoQ",
        "colab_type": "code",
        "colab": {}
      },
      "source": [
        "import torch"
      ],
      "execution_count": 1,
      "outputs": []
    },
    {
      "cell_type": "code",
      "metadata": {
        "id": "6rUUAAeSjJJO",
        "colab_type": "code",
        "colab": {}
      },
      "source": [
        "def activation(x):\n",
        "    \"\"\" Sigmoid activation function \n",
        "    \n",
        "        Arguments\n",
        "        ---------\n",
        "        x: torch.Tensor\n",
        "    \"\"\"\n",
        "    return 1/(1+torch.exp(-x))"
      ],
      "execution_count": 2,
      "outputs": []
    },
    {
      "cell_type": "markdown",
      "metadata": {
        "id": "zevm6vpq-mtM",
        "colab_type": "text"
      },
      "source": [
        "## Single neuron"
      ]
    },
    {
      "cell_type": "code",
      "metadata": {
        "id": "UmoIyuLrjbGw",
        "colab_type": "code",
        "colab": {
          "base_uri": "https://localhost:8080/",
          "height": 66
        },
        "outputId": "6bcfebe9-5176-4565-88da-4d3400a8c675"
      },
      "source": [
        "#creating random data\n",
        "#set a set for random nums\n",
        "torch.manual_seed(7)\n",
        "#create a 1x5 matrix ie 1 row and 5 cols with standard normal distribution numbers\n",
        "features = torch.randn((1, 5))\n",
        "\n",
        "\n",
        "# initialize weights and bias\n",
        "weights = torch.randn_like(features)\n",
        "bias = torch.randn((1,1))\n",
        "\n",
        "print(features)\n",
        "print(weights)\n",
        "print(bias)"
      ],
      "execution_count": 18,
      "outputs": [
        {
          "output_type": "stream",
          "text": [
            "tensor([[-0.1468,  0.7861,  0.9468, -1.1143,  1.6908]])\n",
            "tensor([[-0.8948, -0.3556,  1.2324,  0.1382, -1.6822]])\n",
            "tensor([[0.3177]])\n"
          ],
          "name": "stdout"
        }
      ]
    },
    {
      "cell_type": "code",
      "metadata": {
        "id": "zMDF-o90jybC",
        "colab_type": "code",
        "colab": {
          "base_uri": "https://localhost:8080/",
          "height": 66
        },
        "outputId": "5fa3e34d-ab84-43b4-b563-5cea8dc71140"
      },
      "source": [
        "#calc the output of a single layer using .sum()\n",
        "\n",
        "#multiply\n",
        "intermediates = torch.mul(features, weights)\n",
        "print(intermediates)\n",
        "\n",
        "#add\n",
        "sums = torch.sum(intermediates) + bias\n",
        "print(sums)\n",
        "\n",
        "#activation\n",
        "y = activation(sums)\n",
        "print(y)"
      ],
      "execution_count": 19,
      "outputs": [
        {
          "output_type": "stream",
          "text": [
            "tensor([[ 0.1314, -0.2796,  1.1668, -0.1540, -2.8442]])\n",
            "tensor([[-1.6619]])\n",
            "tensor([[0.1595]])\n"
          ],
          "name": "stdout"
        }
      ]
    },
    {
      "cell_type": "code",
      "metadata": {
        "id": "6l5egm6vkXzF",
        "colab_type": "code",
        "colab": {
          "base_uri": "https://localhost:8080/",
          "height": 33
        },
        "outputId": "0a04ee27-4bbd-4570-f800-0e59715f24dd"
      },
      "source": [
        "'''\n",
        "calc output using matrix\n",
        "- matmul() - can return a matrix even is matrix sizes don't match for multiplication\n",
        "- mm()\n",
        "resize weights using\n",
        "- reshape() - copies data, less efficient\n",
        "- resize_() - inplace operation; can create data even if size is wrong\n",
        "- view()\n",
        "'''\n",
        "activation(torch.mm(features, weights.view((5,1))) + bias)"
      ],
      "execution_count": 23,
      "outputs": [
        {
          "output_type": "execute_result",
          "data": {
            "text/plain": [
              "tensor([[0.1595]])"
            ]
          },
          "metadata": {
            "tags": []
          },
          "execution_count": 23
        }
      ]
    },
    {
      "cell_type": "markdown",
      "metadata": {
        "id": "gmMXEU2k-tNN",
        "colab_type": "text"
      },
      "source": [
        "## mutiple layers"
      ]
    },
    {
      "cell_type": "code",
      "metadata": {
        "id": "tllZq2q3mPgx",
        "colab_type": "code",
        "colab": {
          "base_uri": "https://localhost:8080/",
          "height": 33
        },
        "outputId": "64ebe7be-98bf-44a1-da84-10977238e637"
      },
      "source": [
        "class mlp_1_hidden:\n",
        "    def __init__(self, n_input=3, n_hidden=2, n_output=1):\n",
        "        self.n_input = n_input\n",
        "        self.n_hidden = n_hidden\n",
        "        self.n_output = n_output\n",
        "\n",
        "    def calc_output(self, features):\n",
        "        assert features.shape == (1, self.n_input)\n",
        "\n",
        "        w1 = torch.randn((self.n_input, self.n_hidden))\n",
        "        w2 = torch.randn((self.n_hidden, self.n_output))\n",
        "        b1 = torch.randn((1, self.n_hidden))\n",
        "        b2 = torch.randn((1, self.n_output))\n",
        "\n",
        "        h1 = activation(torch.mm(features, w1) + b1)\n",
        "        h2 = activation(torch.mm(h1, w2) + b2)\n",
        "\n",
        "        return h2\n",
        "\n",
        "\n",
        "n_input = 3\n",
        "features = torch.randn((1, n_input))\n",
        "mlp_model = mlp_1_hidden()\n",
        "mlp_model.calc_output(features)"
      ],
      "execution_count": 31,
      "outputs": [
        {
          "output_type": "execute_result",
          "data": {
            "text/plain": [
              "tensor([[0.7568]])"
            ]
          },
          "metadata": {
            "tags": []
          },
          "execution_count": 31
        }
      ]
    },
    {
      "cell_type": "markdown",
      "metadata": {
        "id": "79JiFb82usuD",
        "colab_type": "text"
      },
      "source": [
        "## torch to numpy and back"
      ]
    },
    {
      "cell_type": "code",
      "metadata": {
        "id": "MzcGHf87tm6w",
        "colab_type": "code",
        "colab": {}
      },
      "source": [
        "import numpy as np"
      ],
      "execution_count": 32,
      "outputs": []
    },
    {
      "cell_type": "code",
      "metadata": {
        "id": "RPr2PP2dvEZ6",
        "colab_type": "code",
        "colab": {
          "base_uri": "https://localhost:8080/",
          "height": 33
        },
        "outputId": "85fefa5a-3ed6-4b76-a16f-f23b59805bfb"
      },
      "source": [
        "a = np.random.rand(1,3)\n",
        "a"
      ],
      "execution_count": 41,
      "outputs": [
        {
          "output_type": "execute_result",
          "data": {
            "text/plain": [
              "array([[0.18551391, 0.47440679, 0.50597935]])"
            ]
          },
          "metadata": {
            "tags": []
          },
          "execution_count": 41
        }
      ]
    },
    {
      "cell_type": "code",
      "metadata": {
        "id": "NLMxzQhtvJxT",
        "colab_type": "code",
        "colab": {
          "base_uri": "https://localhost:8080/",
          "height": 33
        },
        "outputId": "469e4680-e5d4-419a-fa02-98edca761e45"
      },
      "source": [
        "b = torch.from_numpy(a)\n",
        "b"
      ],
      "execution_count": 42,
      "outputs": [
        {
          "output_type": "execute_result",
          "data": {
            "text/plain": [
              "tensor([[0.1855, 0.4744, 0.5060]], dtype=torch.float64)"
            ]
          },
          "metadata": {
            "tags": []
          },
          "execution_count": 42
        }
      ]
    },
    {
      "cell_type": "code",
      "metadata": {
        "id": "yfCCnPKIvPS4",
        "colab_type": "code",
        "colab": {
          "base_uri": "https://localhost:8080/",
          "height": 33
        },
        "outputId": "da597c35-bcbe-4495-bd58-ece5abdb0d15"
      },
      "source": [
        "c = b.numpy()\n",
        "c"
      ],
      "execution_count": 43,
      "outputs": [
        {
          "output_type": "execute_result",
          "data": {
            "text/plain": [
              "array([[0.18551391, 0.47440679, 0.50597935]])"
            ]
          },
          "metadata": {
            "tags": []
          },
          "execution_count": 43
        }
      ]
    },
    {
      "cell_type": "code",
      "metadata": {
        "id": "SvO_YZRdvWL2",
        "colab_type": "code",
        "colab": {
          "base_uri": "https://localhost:8080/",
          "height": 33
        },
        "outputId": "294e3fef-7768-4fc2-91c2-53bdaef4dfb0"
      },
      "source": [
        "c[0][0] = 1.1\n",
        "c"
      ],
      "execution_count": 44,
      "outputs": [
        {
          "output_type": "execute_result",
          "data": {
            "text/plain": [
              "array([[1.1       , 0.47440679, 0.50597935]])"
            ]
          },
          "metadata": {
            "tags": []
          },
          "execution_count": 44
        }
      ]
    },
    {
      "cell_type": "code",
      "metadata": {
        "id": "PmpOuPjmvbg9",
        "colab_type": "code",
        "colab": {
          "base_uri": "https://localhost:8080/",
          "height": 33
        },
        "outputId": "0e7d36ec-5635-4f13-cf1c-5468253bf0e5"
      },
      "source": [
        "a"
      ],
      "execution_count": 45,
      "outputs": [
        {
          "output_type": "execute_result",
          "data": {
            "text/plain": [
              "array([[1.1       , 0.47440679, 0.50597935]])"
            ]
          },
          "metadata": {
            "tags": []
          },
          "execution_count": 45
        }
      ]
    },
    {
      "cell_type": "code",
      "metadata": {
        "id": "0D7VQWkTvnvW",
        "colab_type": "code",
        "colab": {
          "base_uri": "https://localhost:8080/",
          "height": 33
        },
        "outputId": "ec5a8946-99d9-4289-8656-13cb1fed11b9"
      },
      "source": [
        "b"
      ],
      "execution_count": 46,
      "outputs": [
        {
          "output_type": "execute_result",
          "data": {
            "text/plain": [
              "tensor([[1.1000, 0.4744, 0.5060]], dtype=torch.float64)"
            ]
          },
          "metadata": {
            "tags": []
          },
          "execution_count": 46
        }
      ]
    },
    {
      "cell_type": "code",
      "metadata": {
        "id": "EjJrqDsBvokw",
        "colab_type": "code",
        "colab": {}
      },
      "source": [
        "# the memory of numpy array and the tensor is shared"
      ],
      "execution_count": 47,
      "outputs": []
    }
  ]
}